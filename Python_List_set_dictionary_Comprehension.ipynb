{
 "cells": [
  {
   "cell_type": "markdown",
   "id": "1aaea7bd-0817-43d1-919b-d3dd2efb6cfb",
   "metadata": {},
   "source": [
    "# List Comprehension\n",
    "\n"
   ]
  },
  {
   "cell_type": "code",
   "execution_count": 3,
   "id": "218a547d-bd16-4073-90cd-b215758c7b59",
   "metadata": {},
   "outputs": [],
   "source": [
    "listofnumbers=[1,2,3,4,5,6,7]"
   ]
  },
  {
   "cell_type": "code",
   "execution_count": 7,
   "id": "6f701502-1c8f-4381-b801-c2211070ce00",
   "metadata": {},
   "outputs": [
    {
     "name": "stdout",
     "output_type": "stream",
     "text": [
      "[1, 4, 9, 16, 25, 36, 49]\n"
     ]
    }
   ],
   "source": [
    "squarednumbers=[]\n",
    "for number in listofnumbers:\n",
    "    # squared_numbers.append(number**2)\n",
    "    squared_numbers=number**2\n",
    "    squarednumbers.append(squared_numbers)\n",
    "print(squarednumbers)\n",
    "    "
   ]
  },
  {
   "cell_type": "code",
   "execution_count": 9,
   "id": "54078484-376f-4e0d-b88b-e1f441f94733",
   "metadata": {},
   "outputs": [
    {
     "name": "stdout",
     "output_type": "stream",
     "text": [
      "[1, 4, 9, 16, 25, 36, 49]\n"
     ]
    }
   ],
   "source": [
    "#list comprehension\n",
    "squarednumbers=[number**2 for number in listofnumbers]\n",
    "print(squarednumbers)"
   ]
  },
  {
   "cell_type": "code",
   "execution_count": 13,
   "id": "182adc8c-e9e4-456f-80a9-157a42f751d3",
   "metadata": {},
   "outputs": [
    {
     "name": "stdout",
     "output_type": "stream",
     "text": [
      "[4, 16, 36]\n"
     ]
    }
   ],
   "source": [
    "evensquared=[number**2 for number in listofnumbers if number%2==0]\n",
    "print(evensquared)"
   ]
  },
  {
   "cell_type": "code",
   "execution_count": 15,
   "id": "978eae00-786f-45a1-adbd-8cd8c27269dd",
   "metadata": {},
   "outputs": [
    {
     "data": {
      "text/plain": [
       "[1, 4, 9, 16, 25, 36, 49]"
      ]
     },
     "execution_count": 15,
     "metadata": {},
     "output_type": "execute_result"
    }
   ],
   "source": [
    "oddsquared=[number**2 if number!=0 else number**3 for number in listofnumbers]\n",
    "oddsquared"
   ]
  },
  {
   "cell_type": "code",
   "execution_count": 17,
   "id": "0792e5fb-1e51-4d3a-bbf1-1b9395b19464",
   "metadata": {},
   "outputs": [],
   "source": [
    "heisenberg=\"pavan is a good boy and work hard with atmost consistency\""
   ]
  },
  {
   "cell_type": "code",
   "execution_count": 19,
   "id": "4d75ccea-eb27-4aa2-a6c2-d6e35e8cc2ee",
   "metadata": {},
   "outputs": [],
   "source": [
    "wordssplit=heisenberg.split()"
   ]
  },
  {
   "cell_type": "code",
   "execution_count": 21,
   "id": "42715284-a1e9-42b0-a13e-19dfb481be51",
   "metadata": {},
   "outputs": [
    {
     "data": {
      "text/plain": [
       "['pavan',\n",
       " 'is',\n",
       " 'a',\n",
       " 'good',\n",
       " 'boy',\n",
       " 'and',\n",
       " 'work',\n",
       " 'hard',\n",
       " 'with',\n",
       " 'atmost',\n",
       " 'consistency']"
      ]
     },
     "execution_count": 21,
     "metadata": {},
     "output_type": "execute_result"
    }
   ],
   "source": [
    "wordssplit"
   ]
  },
  {
   "cell_type": "code",
   "execution_count": 23,
   "id": "537f64ae-1513-44c1-9983-4dc109ad9076",
   "metadata": {},
   "outputs": [
    {
     "name": "stdout",
     "output_type": "stream",
     "text": [
      "['p', 'i', 'a', 'g', 'b', 'a', 'w', 'h', 'w', 'a', 'c']\n"
     ]
    }
   ],
   "source": [
    "firstletter=[]\n",
    "for word in wordssplit:\n",
    "    firstletter.append(word[0])\n",
    "print(firstletter) "
   ]
  },
  {
   "cell_type": "code",
   "execution_count": 25,
   "id": "05da3a74-c448-4666-816c-e959733acdda",
   "metadata": {},
   "outputs": [
    {
     "data": {
      "text/plain": [
       "['p', 'i', 'a', 'g', 'b', 'a', 'w', 'h', 'w', 'a', 'c']"
      ]
     },
     "execution_count": 25,
     "metadata": {},
     "output_type": "execute_result"
    }
   ],
   "source": [
    "#list comprehension\n",
    "first_letters_in_a_word=[word[0] for word in wordssplit]\n",
    "first_letters_in_a_word"
   ]
  },
  {
   "cell_type": "code",
   "execution_count": 29,
   "id": "662a648e-85b9-4e25-94ae-76b5b8b6a772",
   "metadata": {},
   "outputs": [
    {
     "data": {
      "text/plain": [
       "['pavan',\n",
       " 'is',\n",
       " 'a',\n",
       " 'good',\n",
       " 'boy',\n",
       " 'and',\n",
       " 'work',\n",
       " 'hard',\n",
       " 'with',\n",
       " 'atmost',\n",
       " 'consistency']"
      ]
     },
     "execution_count": 29,
     "metadata": {},
     "output_type": "execute_result"
    }
   ],
   "source": [
    "wordssplit"
   ]
  },
  {
   "cell_type": "code",
   "execution_count": 31,
   "id": "4f13fa9f-ff32-43a6-80fd-3cadd367a3c6",
   "metadata": {},
   "outputs": [
    {
     "name": "stdout",
     "output_type": "stream",
     "text": [
      "{'h', 'p', 'c', 'a', 'b', 'i', 'w', 'g'}\n"
     ]
    }
   ],
   "source": [
    "\n",
    "firstletters=set()\n",
    "for word in wordssplit:\n",
    "    firstletters.add(word[0])\n",
    "print(firstletters)"
   ]
  },
  {
   "cell_type": "code",
   "execution_count": 33,
   "id": "720982e0-7562-4c1b-b908-59fea38f4514",
   "metadata": {},
   "outputs": [
    {
     "data": {
      "text/plain": [
       "{'a', 'b', 'c', 'g', 'h', 'i', 'p', 'w'}"
      ]
     },
     "execution_count": 33,
     "metadata": {},
     "output_type": "execute_result"
    }
   ],
   "source": [
    "# set comprehension\n",
    "firstletter={word[0] for word in wordssplit}\n",
    "firstletter"
   ]
  },
  {
   "cell_type": "code",
   "execution_count": 39,
   "id": "ff26cb5c-c3bf-4b8a-8a5e-119bf1652e61",
   "metadata": {},
   "outputs": [
    {
     "data": {
      "text/plain": [
       "{'a': 'b', 'c': 'd', 'e': 'f', 'g': 'h'}"
      ]
     },
     "execution_count": 39,
     "metadata": {},
     "output_type": "execute_result"
    }
   ],
   "source": [
    "countrylist=[('a','b'),('c','d'),('e','f'),('g','h')]\n",
    "countrydict=dict(countrylist)\n",
    "countrydict"
   ]
  },
  {
   "cell_type": "code",
   "execution_count": 43,
   "id": "147396ab-c3e3-4599-921c-3510b4074df4",
   "metadata": {},
   "outputs": [
    {
     "name": "stdout",
     "output_type": "stream",
     "text": [
      "{'b': 'a', 'd': 'c', 'f': 'e', 'h': 'g'}\n"
     ]
    }
   ],
   "source": [
    "# Dictionary comprehension\n",
    "flipped={}\n",
    "for country,city in countrydict.items():\n",
    "    flipped[city]=country\n",
    "print(flipped)    "
   ]
  },
  {
   "cell_type": "code",
   "execution_count": null,
   "id": "9db5369c-a5a2-426f-a9c2-052b162954be",
   "metadata": {},
   "outputs": [],
   "source": []
  }
 ],
 "metadata": {
  "kernelspec": {
   "display_name": "Python 3 (ipykernel)",
   "language": "python",
   "name": "python3"
  },
  "language_info": {
   "codemirror_mode": {
    "name": "ipython",
    "version": 3
   },
   "file_extension": ".py",
   "mimetype": "text/x-python",
   "name": "python",
   "nbconvert_exporter": "python",
   "pygments_lexer": "ipython3",
   "version": "3.12.7"
  }
 },
 "nbformat": 4,
 "nbformat_minor": 5
}
