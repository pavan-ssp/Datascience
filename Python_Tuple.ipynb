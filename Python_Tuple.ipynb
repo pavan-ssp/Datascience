{
 "cells": [
  {
   "cell_type": "markdown",
   "id": "ec6856da-f540-4b3f-8d16-c3dabe9cb798",
   "metadata": {},
   "source": [
    "# Python Tuple\n",
    "\n",
    "### Tuple is very similar to list, unlike list are immutable (cant be changed). Whereas tuple cant be changed.\n",
    "### we would like to use tuple to present things that shouldnt be changed such as days of the week or dates in a  calender.\n",
    "### Tuple can be given by using (   )."
   ]
  },
  {
   "cell_type": "markdown",
   "id": "05d502a5-9ffd-4bfb-9b87-fdefd201c6bf",
   "metadata": {},
   "source": [
    "my_tuple=(1,'a',3.0)"
   ]
  },
  {
   "cell_type": "code",
   "execution_count": 41,
   "id": "c2563ffb-496a-4b50-93dc-1c201508fc7b",
   "metadata": {},
   "outputs": [
    {
     "data": {
      "text/plain": [
       "(1, 'a', 3.0)"
      ]
     },
     "execution_count": 41,
     "metadata": {},
     "output_type": "execute_result"
    }
   ],
   "source": [
    "my_tuple"
   ]
  },
  {
   "cell_type": "code",
   "execution_count": 43,
   "id": "84ae4e09-7592-44bd-bfce-ecbeafb2775d",
   "metadata": {},
   "outputs": [
    {
     "data": {
      "text/plain": [
       "(1, 'a', 3.0)"
      ]
     },
     "execution_count": 43,
     "metadata": {},
     "output_type": "execute_result"
    }
   ],
   "source": [
    "my_tuple[0:3]"
   ]
  },
  {
   "cell_type": "code",
   "execution_count": 45,
   "id": "53e2c001-8786-4ceb-938d-b16d71f54b91",
   "metadata": {},
   "outputs": [
    {
     "data": {
      "text/plain": [
       "2"
      ]
     },
     "execution_count": 45,
     "metadata": {},
     "output_type": "execute_result"
    }
   ],
   "source": [
    "my_tuple.index(3.0)"
   ]
  },
  {
   "cell_type": "code",
   "execution_count": 47,
   "id": "c1c0fcc2-4667-42b1-ab9a-f62a4acf74af",
   "metadata": {},
   "outputs": [
    {
     "data": {
      "text/plain": [
       "1"
      ]
     },
     "execution_count": 47,
     "metadata": {},
     "output_type": "execute_result"
    }
   ],
   "source": [
    "my_tuple.count('a')"
   ]
  }
 ],
 "metadata": {
  "kernelspec": {
   "display_name": "Python 3 (ipykernel)",
   "language": "python",
   "name": "python3"
  },
  "language_info": {
   "codemirror_mode": {
    "name": "ipython",
    "version": 3
   },
   "file_extension": ".py",
   "mimetype": "text/x-python",
   "name": "python",
   "nbconvert_exporter": "python",
   "pygments_lexer": "ipython3",
   "version": "3.12.7"
  }
 },
 "nbformat": 4,
 "nbformat_minor": 5
}
