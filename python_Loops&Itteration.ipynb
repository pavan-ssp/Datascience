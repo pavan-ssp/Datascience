{
 "cells": [
  {
   "cell_type": "markdown",
   "id": "9e168bfc-1be0-4386-943c-34168d608ac5",
   "metadata": {},
   "source": [
    "# Loops\n",
    "\n",
    "## For Loop\n",
    "### It is used to loop through an itterable object (like a list, tuple, set etc) and perform the same action for each entry"
   ]
  },
  {
   "cell_type": "code",
   "execution_count": 2,
   "id": "64e9206c-175f-4117-9904-e3d42eff55c6",
   "metadata": {},
   "outputs": [],
   "source": [
    "countrys=['INDIA',\"AMERICA\",\"AUSTRAILIA\"]"
   ]
  },
  {
   "cell_type": "code",
   "execution_count": 3,
   "id": "0e40a10a-65fe-4105-9d9d-e0cc3a208372",
   "metadata": {},
   "outputs": [
    {
     "name": "stdout",
     "output_type": "stream",
     "text": [
      " Countrys INDIA\n",
      " Countrys AMERICA\n",
      " Countrys AUSTRAILIA\n"
     ]
    }
   ],
   "source": [
    "for country in countrys:\n",
    "    print(f' Countrys {country}')"
   ]
  },
  {
   "cell_type": "markdown",
   "id": "e31e9a19-8daf-4ae4-ae9d-ae6afe08c27d",
   "metadata": {},
   "source": [
    "# Enumerate"
   ]
  },
  {
   "cell_type": "code",
   "execution_count": 5,
   "id": "5bda71c9-0d95-4cdc-abe5-5f4f5f9a5426",
   "metadata": {},
   "outputs": [
    {
     "name": "stdout",
     "output_type": "stream",
     "text": [
      "0 INDIA\n",
      "1 AMERICA\n",
      "2 AUSTRAILIA\n"
     ]
    }
   ],
   "source": [
    "for number,country in enumerate(countrys):\n",
    "    print(number,country)"
   ]
  },
  {
   "cell_type": "code",
   "execution_count": 6,
   "id": "fc26e99d-f23a-4cb0-967d-e1c87fb8da63",
   "metadata": {},
   "outputs": [],
   "source": [
    "listofnumbers=[1,2,4,6,7,8,10,12]"
   ]
  },
  {
   "cell_type": "code",
   "execution_count": 7,
   "id": "594b9499-68b7-4d26-9a86-8d078006f620",
   "metadata": {},
   "outputs": [
    {
     "name": "stdout",
     "output_type": "stream",
     "text": [
      " the square of number is 1 is equal to 1\n",
      " the square of number is 2 is equal to 4\n",
      " the square of number is 4 is equal to 16\n",
      " the square of number is 6 is equal to 36\n",
      " the square of number is 7 is equal to 49\n",
      " the square of number is 8 is equal to 64\n",
      " the square of number is 10 is equal to 100\n",
      " the square of number is 12 is equal to 144\n"
     ]
    }
   ],
   "source": [
    "for number in listofnumbers:\n",
    "    squarednumber=number**2\n",
    "    print(f' the square of number is {number} is equal to {squarednumber}')"
   ]
  },
  {
   "cell_type": "code",
   "execution_count": 8,
   "id": "c9922e02-1834-4437-b9c4-7b4a3a0654b9",
   "metadata": {},
   "outputs": [],
   "source": [
    "squarednumber=[]"
   ]
  },
  {
   "cell_type": "code",
   "execution_count": 9,
   "id": "ae1a7ef2-4d6b-4acc-b6b9-0ce4998e0892",
   "metadata": {},
   "outputs": [
    {
     "name": "stdout",
     "output_type": "stream",
     "text": [
      " the square of number is  [1]\n",
      " the square of number is  [1, 4]\n",
      " the square of number is  [1, 4, 16]\n",
      " the square of number is  [1, 4, 16, 36]\n",
      " the square of number is  [1, 4, 16, 36, 49]\n",
      " the square of number is  [1, 4, 16, 36, 49, 64]\n",
      " the square of number is  [1, 4, 16, 36, 49, 64, 100]\n",
      " the square of number is  [1, 4, 16, 36, 49, 64, 100, 144]\n"
     ]
    }
   ],
   "source": [
    "for number in listofnumbers:\n",
    "    square=number**2\n",
    "    squarednumber.append(square)\n",
    "    print(f' the square of number is  {squarednumber}')"
   ]
  },
  {
   "cell_type": "code",
   "execution_count": 10,
   "id": "b54068c6-7a3f-47f0-9559-d5c994f94236",
   "metadata": {},
   "outputs": [
    {
     "name": "stdout",
     "output_type": "stream",
     "text": [
      " the square of [1, 2, 4, 6, 7, 8, 10, 12] is  [1, 4, 16, 36, 49, 64, 100, 144]\n"
     ]
    }
   ],
   "source": [
    "squarednumber=[]\n",
    "for number in listofnumbers:\n",
    "    square=number**2\n",
    "    squarednumber.append(square)\n",
    "print(f' the square of {listofnumbers} is  {squarednumber}')"
   ]
  },
  {
   "cell_type": "code",
   "execution_count": 11,
   "id": "2c8d3623-39a4-4d64-bcfd-356b084f8a3e",
   "metadata": {},
   "outputs": [],
   "source": [
    "zippeddict=dict(zip(listofnumbers,squarednumber))"
   ]
  },
  {
   "cell_type": "code",
   "execution_count": 12,
   "id": "f8402455-f8a8-4da8-9d0f-33b36a99cd23",
   "metadata": {},
   "outputs": [
    {
     "data": {
      "text/plain": [
       "{1: 1, 2: 4, 4: 16, 6: 36, 7: 49, 8: 64, 10: 100, 12: 144}"
      ]
     },
     "execution_count": 12,
     "metadata": {},
     "output_type": "execute_result"
    }
   ],
   "source": [
    "zippeddict"
   ]
  },
  {
   "cell_type": "code",
   "execution_count": 13,
   "id": "d23f77ef-1524-4741-8502-b25c2a444d37",
   "metadata": {},
   "outputs": [],
   "source": [
    "listofnumbers=[1,2,4,6,7,8,10,12]"
   ]
  },
  {
   "cell_type": "code",
   "execution_count": 14,
   "id": "7b440ac4-6669-4920-8767-f508f851f955",
   "metadata": {},
   "outputs": [
    {
     "name": "stdout",
     "output_type": "stream",
     "text": [
      "The sequence of square of a number 2 is 4\n",
      "The sequence of square of a number 4 is 16\n",
      "The sequence of square of a number 6 is 36\n",
      "The sequence of square of a number 8 is 64\n",
      "The sequence of square of a number 10 is 100\n",
      "The sequence of square of a number 12 is 144\n"
     ]
    }
   ],
   "source": [
    "for number in listofnumbers:\n",
    "    if number%2==0:\n",
    "        squarednumber=number**2\n",
    "        print(f'The sequence of square of a number {number} is {squarednumber}')"
   ]
  },
  {
   "cell_type": "markdown",
   "id": "28ce74e3-d224-405d-a5e8-d8397d6e0ce0",
   "metadata": {},
   "source": [
    "# Range\n",
    "### It takes 3 arguments (start,stop,step)"
   ]
  },
  {
   "cell_type": "code",
   "execution_count": 16,
   "id": "9d1471fb-5801-44d4-af9b-a0ad7916f32d",
   "metadata": {},
   "outputs": [
    {
     "name": "stdout",
     "output_type": "stream",
     "text": [
      "The sequence of square of a number 0 is 0\n",
      "The sequence of square of a number 2 is 4\n",
      "The sequence of square of a number 4 is 16\n",
      "The sequence of square of a number 6 is 36\n",
      "The sequence of square of a number 8 is 64\n"
     ]
    }
   ],
   "source": [
    "for number in range(0,10,2):\n",
    "    if number%2==0:\n",
    "        squarednumber=number**2\n",
    "        print(f'The sequence of square of a number {number} is {squarednumber}')"
   ]
  },
  {
   "cell_type": "code",
   "execution_count": 17,
   "id": "6fbc5871-f5cf-4b03-8056-1d939261ed74",
   "metadata": {},
   "outputs": [
    {
     "name": "stdout",
     "output_type": "stream",
     "text": [
      "The character is I\n",
      "The character is  \n",
      "The character is a\n",
      "The character is m\n",
      "The character is  \n",
      "The character is t\n",
      "The character is h\n",
      "The character is e\n",
      "The character is  \n",
      "The character is o\n",
      "The character is n\n",
      "The character is e\n",
      "The character is  \n",
      "The character is w\n",
      "The character is h\n",
      "The character is o\n",
      "The character is  \n",
      "The character is k\n",
      "The character is n\n",
      "The character is o\n",
      "The character is c\n",
      "The character is k\n",
      "The character is s\n",
      "The character is  \n",
      "The character is o\n",
      "The character is u\n",
      "The character is t\n",
      "The character is  \n",
      "The character is t\n",
      "The character is h\n",
      "The character is e\n",
      "The character is  \n",
      "The character is k\n",
      "The character is a\n",
      "The character is l\n",
      "The character is i\n"
     ]
    }
   ],
   "source": [
    "heisenberg=\"I am the one who knocks out the kali\"\n",
    "for char in heisenberg:\n",
    "    print(f'The character is {char}')"
   ]
  },
  {
   "cell_type": "code",
   "execution_count": 50,
   "id": "06236c5b-71e6-430f-92f2-b036385687fb",
   "metadata": {},
   "outputs": [],
   "source": [
    "heisenberg = \"I am the one who knocks out the kali\"\n",
    "words = heisenberg.split()"
   ]
  },
  {
   "cell_type": "code",
   "execution_count": 52,
   "id": "d79e41a4-0eab-4b0b-b209-0672bbcdf0e3",
   "metadata": {},
   "outputs": [
    {
     "data": {
      "text/plain": [
       "['I', 'am', 'the', 'one', 'who', 'knocks', 'out', 'the', 'kali']"
      ]
     },
     "execution_count": 52,
     "metadata": {},
     "output_type": "execute_result"
    }
   ],
   "source": [
    "words\n"
   ]
  },
  {
   "cell_type": "code",
   "execution_count": 54,
   "id": "40980bba-3637-4206-8e2c-c17609221aa4",
   "metadata": {},
   "outputs": [
    {
     "name": "stdout",
     "output_type": "stream",
     "text": [
      "1 1\n",
      "2 4\n",
      "4 16\n",
      "6 36\n",
      "7 49\n",
      "8 64\n",
      "10 100\n",
      "12 144\n"
     ]
    }
   ],
   "source": [
    "for number,listofnumbers in zippeddict.items():\n",
    "    print(number,listofnumbers)"
   ]
  },
  {
   "cell_type": "markdown",
   "id": "49a20dff-af1e-42bf-a31b-4af8c00f3bd9",
   "metadata": {},
   "source": [
    "# While Loop\n",
    "### It executes the code inside if the condition is true, the while loop continously execute the code repetadely as long as the condition is true\n"
   ]
  },
  {
   "cell_type": "code",
   "execution_count": 57,
   "id": "5bc8f03a-98b2-4b76-a6a6-28149041ab05",
   "metadata": {},
   "outputs": [
    {
     "name": "stdout",
     "output_type": "stream",
     "text": [
      "1\n",
      "2\n",
      "3\n",
      "4\n",
      "5\n"
     ]
    }
   ],
   "source": [
    "# Initialize the counter\n",
    "counter = 1\n",
    "\n",
    "# While loop to print numbers from 1 to 5\n",
    "while counter <= 5:\n",
    "    print(counter)\n",
    "    counter += 1  # Increment the counter\n"
   ]
  },
  {
   "cell_type": "code",
   "execution_count": null,
   "id": "bedef837-e6e4-4076-97d2-c616f15b13b3",
   "metadata": {},
   "outputs": [],
   "source": []
  }
 ],
 "metadata": {
  "kernelspec": {
   "display_name": "Python 3 (ipykernel)",
   "language": "python",
   "name": "python3"
  },
  "language_info": {
   "codemirror_mode": {
    "name": "ipython",
    "version": 3
   },
   "file_extension": ".py",
   "mimetype": "text/x-python",
   "name": "python",
   "nbconvert_exporter": "python",
   "pygments_lexer": "ipython3",
   "version": "3.12.7"
  }
 },
 "nbformat": 4,
 "nbformat_minor": 5
}
