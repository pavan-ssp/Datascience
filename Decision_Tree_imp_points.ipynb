{
  "nbformat": 4,
  "nbformat_minor": 0,
  "metadata": {
    "colab": {
      "provenance": []
    },
    "kernelspec": {
      "name": "python3",
      "display_name": "Python 3"
    },
    "language_info": {
      "name": "python"
    }
  },
  "cells": [
    {
      "cell_type": "markdown",
      "source": [
        "###Decision Tree :     \n",
        "\n",
        "It is used for classification.\n",
        "\n",
        "In this Entropy,Information-Gain, Gini-Impurity will be there to split the tree.\n",
        "\n",
        "##Entropy :      \n",
        "\n",
        "Measures the purity of the split.\n",
        "\n",
        "\n",
        "##Information-Gain:\n",
        "\n",
        "It  measures and judge the purity of the entire tree.\n",
        "\n",
        "##Gini-Impurity :     \n",
        "\n",
        "It also works like Entropy but the value in entropy is taken as 0-1 whereas in gini-impurity it takes as 0-0.5. Here the logorthmic computation are not there in like entropy so gini-impurity is fast compared to entropy."
      ],
      "metadata": {
        "id": "gaBgKM9PX3rL"
      }
    },
    {
      "cell_type": "code",
      "execution_count": null,
      "metadata": {
        "id": "5SYUlagCXwJa"
      },
      "outputs": [],
      "source": []
    }
  ]
}