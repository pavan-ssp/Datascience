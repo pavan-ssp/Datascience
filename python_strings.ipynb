{
 "cells": [
  {
   "cell_type": "markdown",
   "id": "3f907dea-8ca9-48d9-b97d-a65e93704145",
   "metadata": {},
   "source": [
    "### Python Strings\n"
   ]
  },
  {
   "cell_type": "code",
   "execution_count": 2,
   "id": "91cb94ec-f07f-4ba7-8aed-e990a95d55b7",
   "metadata": {},
   "outputs": [],
   "source": [
    "string='Python'"
   ]
  },
  {
   "cell_type": "code",
   "execution_count": 3,
   "id": "00243cb7-b7b9-422b-8211-838f65d41437",
   "metadata": {},
   "outputs": [
    {
     "name": "stdout",
     "output_type": "stream",
     "text": [
      "Python\n"
     ]
    },
    {
     "data": {
      "text/plain": [
       "'Python'"
      ]
     },
     "execution_count": 3,
     "metadata": {},
     "output_type": "execute_result"
    }
   ],
   "source": [
    "print(string)\n",
    "string"
   ]
  },
  {
   "cell_type": "code",
   "execution_count": 4,
   "id": "5985e34a-3188-4045-8745-78ee7caa5b47",
   "metadata": {},
   "outputs": [
    {
     "name": "stdout",
     "output_type": "stream",
     "text": [
      "regression\n"
     ]
    }
   ],
   "source": [
    "algorithm='regression'\n",
    "print(algorithm)"
   ]
  },
  {
   "cell_type": "code",
   "execution_count": 5,
   "id": "48dd9dfe-5d2d-4bd2-b44a-8cdd59161ccc",
   "metadata": {},
   "outputs": [
    {
     "data": {
      "text/plain": [
       "10"
      ]
     },
     "execution_count": 5,
     "metadata": {},
     "output_type": "execute_result"
    }
   ],
   "source": [
    "len(algorithm)  ## It counts Including Spaces and punctuation "
   ]
  },
  {
   "cell_type": "markdown",
   "id": "f94ab473-5a74-44bf-b85c-4e0627454d88",
   "metadata": {},
   "source": [
    "## Python String Indexing [it counts starts from 0]"
   ]
  },
  {
   "cell_type": "code",
   "execution_count": 7,
   "id": "49202a7e-edd1-4ca2-bc12-636972a8ffef",
   "metadata": {},
   "outputs": [],
   "source": [
    "string1=\"principal component analysis\""
   ]
  },
  {
   "cell_type": "code",
   "execution_count": 8,
   "id": "8b1dff5a-e746-4312-b5d9-8de9cdc464df",
   "metadata": {},
   "outputs": [
    {
     "data": {
      "text/plain": [
       "'p'"
      ]
     },
     "execution_count": 8,
     "metadata": {},
     "output_type": "execute_result"
    }
   ],
   "source": [
    "string1[0]"
   ]
  },
  {
   "cell_type": "code",
   "execution_count": 9,
   "id": "86974b4e-b579-4f5a-9084-ba57bee1842e",
   "metadata": {},
   "outputs": [
    {
     "data": {
      "text/plain": [
       "'s'"
      ]
     },
     "execution_count": 9,
     "metadata": {},
     "output_type": "execute_result"
    }
   ],
   "source": [
    "string1[-1]"
   ]
  },
  {
   "cell_type": "code",
   "execution_count": 10,
   "id": "bf834456-3794-4f5d-802a-2081b38ada7e",
   "metadata": {},
   "outputs": [
    {
     "data": {
      "text/plain": [
       "' '"
      ]
     },
     "execution_count": 10,
     "metadata": {},
     "output_type": "execute_result"
    }
   ],
   "source": [
    "string1[9]"
   ]
  },
  {
   "cell_type": "code",
   "execution_count": 11,
   "id": "85336ddd-a6c9-4539-9c96-8a12e4b653e6",
   "metadata": {},
   "outputs": [
    {
     "data": {
      "text/plain": [
       "'rincipal '"
      ]
     },
     "execution_count": 11,
     "metadata": {},
     "output_type": "execute_result"
    }
   ],
   "source": [
    "string1[1:10]"
   ]
  },
  {
   "cell_type": "code",
   "execution_count": 12,
   "id": "a5ff8665-4740-4e3f-b605-1976ee339eec",
   "metadata": {},
   "outputs": [
    {
     "data": {
      "text/plain": [
       "'principal component analysis'"
      ]
     },
     "execution_count": 12,
     "metadata": {},
     "output_type": "execute_result"
    }
   ],
   "source": [
    "string1[:]"
   ]
  },
  {
   "cell_type": "code",
   "execution_count": 13,
   "id": "daa36b13-2ff4-43ac-9684-ff0790daf4d3",
   "metadata": {},
   "outputs": [
    {
     "data": {
      "text/plain": [
       "'principal component analysis'"
      ]
     },
     "execution_count": 13,
     "metadata": {},
     "output_type": "execute_result"
    }
   ],
   "source": [
    "string1[::]"
   ]
  },
  {
   "cell_type": "code",
   "execution_count": 14,
   "id": "9444b798-50dd-4848-941b-2eb2fdf78c0c",
   "metadata": {},
   "outputs": [
    {
     "data": {
      "text/plain": [
       "'picplcmoetaayi'"
      ]
     },
     "execution_count": 14,
     "metadata": {},
     "output_type": "execute_result"
    }
   ],
   "source": [
    "string1[::2]"
   ]
  },
  {
   "cell_type": "code",
   "execution_count": 15,
   "id": "37dd5e1b-fa23-4b98-9cdc-28a333f632ba",
   "metadata": {},
   "outputs": [
    {
     "data": {
      "text/plain": [
       "'sisylana tnenopmoc lapicnirp'"
      ]
     },
     "execution_count": 15,
     "metadata": {},
     "output_type": "execute_result"
    }
   ],
   "source": [
    "string1[::-1]"
   ]
  },
  {
   "cell_type": "code",
   "execution_count": 16,
   "id": "a6e87a9f-8a9a-43c6-bfec-ab1179bf23a0",
   "metadata": {},
   "outputs": [
    {
     "data": {
      "text/plain": [
       "'icnirp'"
      ]
     },
     "execution_count": 16,
     "metadata": {},
     "output_type": "execute_result"
    }
   ],
   "source": [
    "string1[5::-1]"
   ]
  },
  {
   "cell_type": "code",
   "execution_count": 17,
   "id": "761e0589-edff-4732-a434-a3b6253df5d6",
   "metadata": {},
   "outputs": [
    {
     "data": {
      "text/plain": [
       "'icni'"
      ]
     },
     "execution_count": 17,
     "metadata": {},
     "output_type": "execute_result"
    }
   ],
   "source": [
    "string1[5:1:-1]"
   ]
  },
  {
   "cell_type": "code",
   "execution_count": 18,
   "id": "51aa0317-7596-4973-9d08-bd0b12276b7e",
   "metadata": {},
   "outputs": [
    {
     "ename": "TypeError",
     "evalue": "'str' object does not support item assignment",
     "output_type": "error",
     "traceback": [
      "\u001b[1;31m---------------------------------------------------------------------------\u001b[0m",
      "\u001b[1;31mTypeError\u001b[0m                                 Traceback (most recent call last)",
      "Cell \u001b[1;32mIn[18], line 1\u001b[0m\n\u001b[1;32m----> 1\u001b[0m string1[\u001b[38;5;241m0\u001b[39m]\u001b[38;5;241m=\u001b[39m\u001b[38;5;124m'\u001b[39m\u001b[38;5;124mi\u001b[39m\u001b[38;5;124m'\u001b[39m\n",
      "\u001b[1;31mTypeError\u001b[0m: 'str' object does not support item assignment"
     ]
    }
   ],
   "source": [
    "string1[0]='i'  ##cant be changed"
   ]
  },
  {
   "cell_type": "code",
   "execution_count": 20,
   "id": "d380d66e-99de-4542-a9d3-58667e4794e6",
   "metadata": {},
   "outputs": [],
   "source": [
    "string2= ' is better '"
   ]
  },
  {
   "cell_type": "code",
   "execution_count": 22,
   "id": "db898ba4-dee5-4bbb-a149-6837f6e1f2ae",
   "metadata": {},
   "outputs": [
    {
     "data": {
      "text/plain": [
       "'principal component analysis is better '"
      ]
     },
     "execution_count": 22,
     "metadata": {},
     "output_type": "execute_result"
    }
   ],
   "source": [
    "string1+string2"
   ]
  },
  {
   "cell_type": "code",
   "execution_count": 24,
   "id": "79b52d52-2d0c-40ae-9d4f-b630ec1b84e6",
   "metadata": {},
   "outputs": [],
   "source": [
    "string3= 4"
   ]
  },
  {
   "cell_type": "code",
   "execution_count": 26,
   "id": "ba374892-7f24-494d-92be-001fdaa4639c",
   "metadata": {},
   "outputs": [
    {
     "data": {
      "text/plain": [
       "'principal component analysis is better 4'"
      ]
     },
     "execution_count": 26,
     "metadata": {},
     "output_type": "execute_result"
    }
   ],
   "source": [
    "string1+string2+ str(string3)"
   ]
  },
  {
   "cell_type": "code",
   "execution_count": 28,
   "id": "ad3102e0-03d0-44de-87cc-0eb0f2f620d2",
   "metadata": {},
   "outputs": [
    {
     "data": {
      "text/plain": [
       "'principal component analysis'"
      ]
     },
     "execution_count": 28,
     "metadata": {},
     "output_type": "execute_result"
    }
   ],
   "source": [
    "string1.strip()  ##  Removes whitespaces front or end of the string"
   ]
  },
  {
   "cell_type": "code",
   "execution_count": 30,
   "id": "1423928c-96ed-41e9-9d3f-c25310146090",
   "metadata": {},
   "outputs": [
    {
     "data": {
      "text/plain": [
       "'PRINCIPAL COMPONENT ANALYSIS'"
      ]
     },
     "execution_count": 30,
     "metadata": {},
     "output_type": "execute_result"
    }
   ],
   "source": [
    "string1.upper()"
   ]
  },
  {
   "cell_type": "code",
   "execution_count": 32,
   "id": "5b7f6fae-2583-4f3c-ae25-18557f26fe18",
   "metadata": {},
   "outputs": [
    {
     "data": {
      "text/plain": [
       "'principal component analysis'"
      ]
     },
     "execution_count": 32,
     "metadata": {},
     "output_type": "execute_result"
    }
   ],
   "source": [
    "string1.lower()"
   ]
  },
  {
   "cell_type": "code",
   "execution_count": 34,
   "id": "cd8b9e52-b750-4514-baf0-883db1fa2e2a",
   "metadata": {},
   "outputs": [
    {
     "data": {
      "text/plain": [
       "2"
      ]
     },
     "execution_count": 34,
     "metadata": {},
     "output_type": "execute_result"
    }
   ],
   "source": [
    "string1.count('o')"
   ]
  },
  {
   "cell_type": "code",
   "execution_count": 36,
   "id": "09ad6c06-7348-47a2-99f8-9af674831e4c",
   "metadata": {},
   "outputs": [
    {
     "data": {
      "text/plain": [
       "2"
      ]
     },
     "execution_count": 36,
     "metadata": {},
     "output_type": "execute_result"
    }
   ],
   "source": [
    "string1.count(' ')"
   ]
  },
  {
   "cell_type": "code",
   "execution_count": 56,
   "id": "ea579eee-8594-4154-9417-e2440626014d",
   "metadata": {},
   "outputs": [
    {
     "data": {
      "text/plain": [
       "20"
      ]
     },
     "execution_count": 56,
     "metadata": {},
     "output_type": "execute_result"
    }
   ],
   "source": [
    "string1.find(\"ana\")"
   ]
  },
  {
   "cell_type": "code",
   "execution_count": 58,
   "id": "184d0513-8bf6-4b75-a7e6-d7ae02715db7",
   "metadata": {},
   "outputs": [
    {
     "data": {
      "text/plain": [
       "-1"
      ]
     },
     "execution_count": 58,
     "metadata": {},
     "output_type": "execute_result"
    }
   ],
   "source": [
    "string1.find('arg')   ## returns -1 if it not found else return index of the first elemnet"
   ]
  },
  {
   "cell_type": "code",
   "execution_count": 60,
   "id": "16c5ae72-a322-4fe8-816c-4184e13203bf",
   "metadata": {},
   "outputs": [],
   "source": [
    "firstname= ' satya surya pavan '"
   ]
  },
  {
   "cell_type": "code",
   "execution_count": 62,
   "id": "52dc3a83-aefb-4434-9378-c3f9040a7ae2",
   "metadata": {},
   "outputs": [],
   "source": [
    "lastname= ' chanduri '"
   ]
  },
  {
   "cell_type": "code",
   "execution_count": 70,
   "id": "dce7bda4-5e03-41da-9087-1b57f61da06f",
   "metadata": {},
   "outputs": [],
   "source": [
    "fullname= f' Full name is {firstname} , {lastname}'"
   ]
  },
  {
   "cell_type": "code",
   "execution_count": 72,
   "id": "12ed2968-af36-4ad6-acdd-031c31e35a86",
   "metadata": {},
   "outputs": [
    {
     "data": {
      "text/plain": [
       "' Full name is  satya surya pavan  ,  chanduri '"
      ]
     },
     "execution_count": 72,
     "metadata": {},
     "output_type": "execute_result"
    }
   ],
   "source": [
    "fullname"
   ]
  },
  {
   "cell_type": "code",
   "execution_count": 76,
   "id": "139456af-735c-4ce6-833b-65c3bbf70fcb",
   "metadata": {},
   "outputs": [
    {
     "data": {
      "text/plain": [
       "False"
      ]
     },
     "execution_count": 76,
     "metadata": {},
     "output_type": "execute_result"
    }
   ],
   "source": [
    "'kumar' in fullname    ## returns true if exists otherwise false"
   ]
  },
  {
   "cell_type": "code",
   "execution_count": 78,
   "id": "d9ed4eee-5698-4cf1-b3a3-f390c8b04371",
   "metadata": {},
   "outputs": [],
   "source": [
    "age=24\n",
    "txt= f' Name is {firstname} , {lastname} and age is {age}'"
   ]
  },
  {
   "cell_type": "code",
   "execution_count": 80,
   "id": "9c2471f9-57c9-40f6-85f6-a5ae6211ebf2",
   "metadata": {},
   "outputs": [
    {
     "data": {
      "text/plain": [
       "' Name is  satya surya pavan  ,  chanduri  and age is 24'"
      ]
     },
     "execution_count": 80,
     "metadata": {},
     "output_type": "execute_result"
    }
   ],
   "source": [
    "txt"
   ]
  },
  {
   "cell_type": "code",
   "execution_count": 82,
   "id": "b13225fc-7f54-4ca5-af77-a008515daf8d",
   "metadata": {},
   "outputs": [
    {
     "name": "stdout",
     "output_type": "stream",
     "text": [
      "name is kumar and age is 36\n"
     ]
    }
   ],
   "source": [
    "age=36\n",
    "txt= 'name is kumar and age is {}'\n",
    "print(txt.format(age))"
   ]
  },
  {
   "cell_type": "code",
   "execution_count": 84,
   "id": "51e22da5-fe3c-4a8c-a48f-55ff0928bc93",
   "metadata": {},
   "outputs": [],
   "source": [
    "p=1\n",
    "q=2\n",
    "r=3"
   ]
  },
  {
   "cell_type": "code",
   "execution_count": 101,
   "id": "7e52882d-4ef9-423c-93ea-56745071fba3",
   "metadata": {},
   "outputs": [
    {
     "name": "stdout",
     "output_type": "stream",
     "text": [
      "i have 1 piece and my brother have 2 peices and my father and mother have 3 pieces\n"
     ]
    }
   ],
   "source": [
    "myorder='i have {} piece and my brother have {} peices and my father and mother have {} pieces'\n",
    "print(myorder.format(p,q,r))"
   ]
  }
 ],
 "metadata": {
  "kernelspec": {
   "display_name": "Python 3 (ipykernel)",
   "language": "python",
   "name": "python3"
  },
  "language_info": {
   "codemirror_mode": {
    "name": "ipython",
    "version": 3
   },
   "file_extension": ".py",
   "mimetype": "text/x-python",
   "name": "python",
   "nbconvert_exporter": "python",
   "pygments_lexer": "ipython3",
   "version": "3.12.7"
  }
 },
 "nbformat": 4,
 "nbformat_minor": 5
}
