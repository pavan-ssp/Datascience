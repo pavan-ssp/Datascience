{
 "cells": [
  {
   "cell_type": "markdown",
   "id": "e92e2bce-feb7-44cc-b11d-50059bc257e4",
   "metadata": {},
   "source": [
    "#  python List\n",
    "## List are mutable [can be change]\n",
    "## It is represented as \"[]\"\n",
    "## And the elements are seperated by comma\n",
    "## list can contains any type of values ie: string,int,float,char"
   ]
  },
  {
   "cell_type": "code",
   "execution_count": 8,
   "id": "acdcf56b-3e12-44fe-b48d-544943742794",
   "metadata": {},
   "outputs": [
    {
     "name": "stdout",
     "output_type": "stream",
     "text": [
      "[1, 2, 3, 4, 5]\n"
     ]
    }
   ],
   "source": [
    "my_list=[1,2,3,4,5]\n",
    "print(my_list)"
   ]
  },
  {
   "cell_type": "code",
   "execution_count": 12,
   "id": "99a9970d-766f-432f-b69e-06766819fb82",
   "metadata": {},
   "outputs": [
    {
     "data": {
      "text/plain": [
       "list"
      ]
     },
     "execution_count": 12,
     "metadata": {},
     "output_type": "execute_result"
    }
   ],
   "source": [
    "type(my_list)"
   ]
  },
  {
   "cell_type": "code",
   "execution_count": 15,
   "id": "f6e09458-5478-499a-9213-1031cc00f328",
   "metadata": {},
   "outputs": [
    {
     "data": {
      "text/plain": [
       "1"
      ]
     },
     "execution_count": 15,
     "metadata": {},
     "output_type": "execute_result"
    }
   ],
   "source": [
    "my_list[0]"
   ]
  },
  {
   "cell_type": "code",
   "execution_count": 17,
   "id": "f625b494-bb5e-453f-854b-ed2a09ec7646",
   "metadata": {},
   "outputs": [
    {
     "data": {
      "text/plain": [
       "[2, 3]"
      ]
     },
     "execution_count": 17,
     "metadata": {},
     "output_type": "execute_result"
    }
   ],
   "source": [
    "my_list[1:3]"
   ]
  },
  {
   "cell_type": "code",
   "execution_count": 39,
   "id": "9f61205b-908d-4977-9aa9-c4437f62236c",
   "metadata": {},
   "outputs": [
    {
     "data": {
      "text/plain": [
       "[1, 2, 3, 4, 5, 'abc', 'def']"
      ]
     },
     "execution_count": 39,
     "metadata": {},
     "output_type": "execute_result"
    }
   ],
   "source": [
    "my_list+['abc','def'] ##this actually doesnt change the original list\n"
   ]
  },
  {
   "cell_type": "code",
   "execution_count": 41,
   "id": "ba40c2ca-d03b-4cb8-ab43-82773f6bae6b",
   "metadata": {},
   "outputs": [
    {
     "data": {
      "text/plain": [
       "[1, 2, 3, 4, 5]"
      ]
     },
     "execution_count": 41,
     "metadata": {},
     "output_type": "execute_result"
    }
   ],
   "source": [
    "my_list"
   ]
  },
  {
   "cell_type": "code",
   "execution_count": 53,
   "id": "5cbc2dae-06c2-49af-87b7-7b078e2156b0",
   "metadata": {},
   "outputs": [],
   "source": [
    "my_list=[5,2,1,4]"
   ]
  },
  {
   "cell_type": "code",
   "execution_count": 55,
   "id": "dbbc5103-9ba4-4b6e-8814-2658146b9b63",
   "metadata": {},
   "outputs": [],
   "source": [
    "my_list.sort()"
   ]
  },
  {
   "cell_type": "code",
   "execution_count": 57,
   "id": "88c0ad55-3181-447c-bf61-f12969b2626b",
   "metadata": {},
   "outputs": [
    {
     "data": {
      "text/plain": [
       "[1, 2, 4, 5]"
      ]
     },
     "execution_count": 57,
     "metadata": {},
     "output_type": "execute_result"
    }
   ],
   "source": [
    "my_list"
   ]
  },
  {
   "cell_type": "markdown",
   "id": "9bf24e3a-d674-4c2e-b784-6edbe0412e4d",
   "metadata": {},
   "source": [
    "# List append() \n",
    "### It will use for to add an item to an existing list at the end of the list"
   ]
  },
  {
   "cell_type": "code",
   "execution_count": 61,
   "id": "2e216cc7-ebd7-4fb5-be96-2b8c9c7c5f09",
   "metadata": {},
   "outputs": [],
   "source": [
    "my_list.append(40)"
   ]
  },
  {
   "cell_type": "code",
   "execution_count": 63,
   "id": "302e439c-df49-4eb8-9d87-1220c3a044b5",
   "metadata": {},
   "outputs": [
    {
     "data": {
      "text/plain": [
       "[1, 2, 4, 5, 40]"
      ]
     },
     "execution_count": 63,
     "metadata": {},
     "output_type": "execute_result"
    }
   ],
   "source": [
    "my_list"
   ]
  },
  {
   "cell_type": "code",
   "execution_count": 65,
   "id": "7ab9d1ff-dfdd-48a1-b7f9-cf396bbc2009",
   "metadata": {},
   "outputs": [],
   "source": [
    "my_list.append([91,43,76])"
   ]
  },
  {
   "cell_type": "code",
   "execution_count": 67,
   "id": "444f75bd-afa0-41da-b9c6-1812993d0c8d",
   "metadata": {},
   "outputs": [
    {
     "data": {
      "text/plain": [
       "[1, 2, 4, 5, 40, [91, 43, 76]]"
      ]
     },
     "execution_count": 67,
     "metadata": {},
     "output_type": "execute_result"
    }
   ],
   "source": [
    "my_list"
   ]
  },
  {
   "cell_type": "markdown",
   "id": "95a64392-04b7-4208-95ae-426ee8ae9b9e",
   "metadata": {},
   "source": [
    "# List extend()\n",
    "### Used to merge a list to an existing list\n",
    "### It takes a list or any itterable as an argument and adds elements individually unlike append as an single element"
   ]
  },
  {
   "cell_type": "code",
   "execution_count": 112,
   "id": "da1eef85-e1ed-4469-9365-e457f6ec97ec",
   "metadata": {},
   "outputs": [],
   "source": [
    "my_list.extend(['w','l','d'])"
   ]
  },
  {
   "cell_type": "code",
   "execution_count": 114,
   "id": "97dbb785-ade8-4886-aa83-5ea8d04d7e8f",
   "metadata": {},
   "outputs": [
    {
     "data": {
      "text/plain": [
       "[1, 2, 4, [91, 43, 76], 'w', 'w', 'l', 'w', 'l', 'd']"
      ]
     },
     "execution_count": 114,
     "metadata": {},
     "output_type": "execute_result"
    }
   ],
   "source": [
    "my_list"
   ]
  },
  {
   "cell_type": "code",
   "execution_count": 116,
   "id": "f877de5b-d473-4f9e-9a9b-c879648b5853",
   "metadata": {},
   "outputs": [
    {
     "data": {
      "text/plain": [
       "'d'"
      ]
     },
     "execution_count": 116,
     "metadata": {},
     "output_type": "execute_result"
    }
   ],
   "source": [
    "my_list.pop()  # It removes last element"
   ]
  },
  {
   "cell_type": "code",
   "execution_count": 118,
   "id": "c80a04b4-3716-444e-bb0f-d8d774f825b8",
   "metadata": {},
   "outputs": [
    {
     "data": {
      "text/plain": [
       "[1, 2, 4, [91, 43, 76], 'w', 'w', 'l', 'w', 'l']"
      ]
     },
     "execution_count": 118,
     "metadata": {},
     "output_type": "execute_result"
    }
   ],
   "source": [
    "my_list"
   ]
  },
  {
   "cell_type": "code",
   "execution_count": 120,
   "id": "7a12c6e7-d5e5-4ab0-878a-df814c51ca06",
   "metadata": {},
   "outputs": [
    {
     "data": {
      "text/plain": [
       "[91, 43, 76]"
      ]
     },
     "execution_count": 120,
     "metadata": {},
     "output_type": "execute_result"
    }
   ],
   "source": [
    "my_list.pop(3)  # It removes 3rd index element "
   ]
  },
  {
   "cell_type": "code",
   "execution_count": 122,
   "id": "2ca806fc-b44c-4623-b330-d1eb0efb9b8e",
   "metadata": {},
   "outputs": [
    {
     "data": {
      "text/plain": [
       "[1, 2, 4, 'w', 'w', 'l', 'w', 'l']"
      ]
     },
     "execution_count": 122,
     "metadata": {},
     "output_type": "execute_result"
    }
   ],
   "source": [
    "my_list"
   ]
  },
  {
   "cell_type": "code",
   "execution_count": 128,
   "id": "c358fcfa-b28e-4ccb-b9d8-2ed21a863668",
   "metadata": {},
   "outputs": [],
   "source": [
    "my_list.remove('w')  # it removes first occurence of w from the existing list"
   ]
  },
  {
   "cell_type": "code",
   "execution_count": 126,
   "id": "cc73b018-9c6d-4933-96dd-4d0b5e5fa9e9",
   "metadata": {},
   "outputs": [
    {
     "data": {
      "text/plain": [
       "[1, 2, 4, 'w', 'l', 'w', 'l']"
      ]
     },
     "execution_count": 126,
     "metadata": {},
     "output_type": "execute_result"
    }
   ],
   "source": [
    "my_list"
   ]
  },
  {
   "cell_type": "code",
   "execution_count": 130,
   "id": "8401673c-12b7-4f3a-9c7e-93c4072038fd",
   "metadata": {},
   "outputs": [
    {
     "data": {
      "text/plain": [
       "1"
      ]
     },
     "execution_count": 130,
     "metadata": {},
     "output_type": "execute_result"
    }
   ],
   "source": [
    "my_list.count('w')"
   ]
  },
  {
   "cell_type": "code",
   "execution_count": 132,
   "id": "f83247f7-0041-4741-8b49-84d2c4c34d1b",
   "metadata": {},
   "outputs": [
    {
     "data": {
      "text/plain": [
       "3"
      ]
     },
     "execution_count": 132,
     "metadata": {},
     "output_type": "execute_result"
    }
   ],
   "source": [
    "my_list.index('l')"
   ]
  },
  {
   "cell_type": "code",
   "execution_count": 154,
   "id": "4c7d507c-58a0-4a72-a4aa-2f33d63f77e9",
   "metadata": {},
   "outputs": [
    {
     "data": {
      "text/plain": [
       "<function list.sort(*, key=None, reverse=False)>"
      ]
     },
     "execution_count": 154,
     "metadata": {},
     "output_type": "execute_result"
    }
   ],
   "source": [
    "my_list.sort"
   ]
  },
  {
   "cell_type": "code",
   "execution_count": 156,
   "id": "83058559-ee46-4f3f-98c6-3341f3f43a7b",
   "metadata": {},
   "outputs": [
    {
     "data": {
      "text/plain": [
       "[1, 2, 4, 'w', 'l', 'l']"
      ]
     },
     "execution_count": 156,
     "metadata": {},
     "output_type": "execute_result"
    }
   ],
   "source": [
    "my_list"
   ]
  },
  {
   "cell_type": "code",
   "execution_count": 158,
   "id": "e473c6d8-7838-4db4-a840-62a4dfa45a9d",
   "metadata": {},
   "outputs": [],
   "source": [
    "list1='q'\n",
    "list2='w'\n",
    "list3='r'"
   ]
  },
  {
   "cell_type": "code",
   "execution_count": null,
   "id": "1e9cbe9b-df0f-4978-9b71-0d2caab7b1b0",
   "metadata": {},
   "outputs": [],
   "source": [
    "listoflist"
   ]
  },
  {
   "cell_type": "code",
   "execution_count": null,
   "id": "87299ab5-c1aa-4942-954a-3b7067ce9ff1",
   "metadata": {},
   "outputs": [],
   "source": []
  },
  {
   "cell_type": "code",
   "execution_count": null,
   "id": "e594941b-4ea3-4b4a-af47-36c5b75b06c9",
   "metadata": {},
   "outputs": [],
   "source": []
  },
  {
   "cell_type": "code",
   "execution_count": null,
   "id": "525e9599-d41f-4426-98a3-2e03b4d17147",
   "metadata": {},
   "outputs": [],
   "source": []
  },
  {
   "cell_type": "code",
   "execution_count": null,
   "id": "f415f273-18c1-4cf1-baa0-85ba6664475f",
   "metadata": {},
   "outputs": [],
   "source": []
  },
  {
   "cell_type": "code",
   "execution_count": null,
   "id": "6fcf7f3b-61c4-484e-b8ac-77e07b6aca82",
   "metadata": {},
   "outputs": [],
   "source": []
  },
  {
   "cell_type": "code",
   "execution_count": null,
   "id": "b98c8bb8-1abf-423a-a5ee-71bda0415893",
   "metadata": {},
   "outputs": [],
   "source": []
  },
  {
   "cell_type": "code",
   "execution_count": null,
   "id": "c46f549c-1789-40f9-925f-59575fb97d40",
   "metadata": {},
   "outputs": [],
   "source": []
  }
 ],
 "metadata": {
  "kernelspec": {
   "display_name": "Python 3 (ipykernel)",
   "language": "python",
   "name": "python3"
  },
  "language_info": {
   "codemirror_mode": {
    "name": "ipython",
    "version": 3
   },
   "file_extension": ".py",
   "mimetype": "text/x-python",
   "name": "python",
   "nbconvert_exporter": "python",
   "pygments_lexer": "ipython3",
   "version": "3.12.7"
  }
 },
 "nbformat": 4,
 "nbformat_minor": 5
}
