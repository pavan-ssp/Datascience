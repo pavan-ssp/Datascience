{
 "cells": [
  {
   "cell_type": "markdown",
   "id": "e8a9b3d3-12e4-4891-a5e9-9c0c08001061",
   "metadata": {},
   "source": [
    "# Sets\n",
    "### Sets are unordered collection of unique elementsand it can be changed ie:Mutable\n",
    "### sets can be represented by using {}"
   ]
  },
  {
   "cell_type": "code",
   "execution_count": 6,
   "id": "0e02b70c-4c92-47be-85d7-8890663d02d3",
   "metadata": {},
   "outputs": [],
   "source": [
    "empty_set=set()   # creating an empty set which doesnt contains any of the elements"
   ]
  },
  {
   "cell_type": "code",
   "execution_count": 8,
   "id": "e08c180b-c3cc-4099-8c75-233376aa4c03",
   "metadata": {},
   "outputs": [
    {
     "data": {
      "text/plain": [
       "set"
      ]
     },
     "execution_count": 8,
     "metadata": {},
     "output_type": "execute_result"
    }
   ],
   "source": [
    "type(empty_set)"
   ]
  },
  {
   "cell_type": "code",
   "execution_count": 14,
   "id": "4b8db9bc-dfa1-4989-8da0-580c6d8efe32",
   "metadata": {},
   "outputs": [],
   "source": [
    "set={1,2,3,4,5,6}"
   ]
  },
  {
   "cell_type": "code",
   "execution_count": 16,
   "id": "e66b11a2-775e-4770-9da5-2d6e046ed5d9",
   "metadata": {},
   "outputs": [
    {
     "data": {
      "text/plain": [
       "{1, 2, 3, 4, 5, 6}"
      ]
     },
     "execution_count": 16,
     "metadata": {},
     "output_type": "execute_result"
    }
   ],
   "source": [
    "set"
   ]
  },
  {
   "cell_type": "code",
   "execution_count": 22,
   "id": "8ba15726-84d3-4da5-8cee-b75d46bf931e",
   "metadata": {},
   "outputs": [],
   "source": [
    "set1={1,1,1,2,3,4,5,6,7}   # set doesnt allow duplicate values"
   ]
  },
  {
   "cell_type": "code",
   "execution_count": 20,
   "id": "80506f30-022c-4fb5-922c-dfdbed206f01",
   "metadata": {},
   "outputs": [
    {
     "data": {
      "text/plain": [
       "{1, 2, 3, 4, 5, 6, 7}"
      ]
     },
     "execution_count": 20,
     "metadata": {},
     "output_type": "execute_result"
    }
   ],
   "source": [
    "set1"
   ]
  },
  {
   "cell_type": "code",
   "execution_count": 24,
   "id": "d4f1beb9-04cf-483c-9e8f-0393634c70de",
   "metadata": {},
   "outputs": [],
   "source": [
    "set1.add(\"a\")"
   ]
  },
  {
   "cell_type": "code",
   "execution_count": 26,
   "id": "7ce41b4d-bbf2-4fe3-98da-1ccc76373c21",
   "metadata": {},
   "outputs": [
    {
     "data": {
      "text/plain": [
       "{1, 2, 3, 4, 5, 6, 7, 'a'}"
      ]
     },
     "execution_count": 26,
     "metadata": {},
     "output_type": "execute_result"
    }
   ],
   "source": [
    "set1"
   ]
  },
  {
   "cell_type": "code",
   "execution_count": 32,
   "id": "31e37c7b-341a-4b0a-8b8c-97be5514a887",
   "metadata": {},
   "outputs": [],
   "source": [
    "set1.update([1,'c','b'])    # after updating it sorted accordingly "
   ]
  },
  {
   "cell_type": "code",
   "execution_count": 34,
   "id": "a229ec27-ff44-4f36-aa96-20848640032a",
   "metadata": {},
   "outputs": [
    {
     "data": {
      "text/plain": [
       "{1, 2, 3, 4, 5, 6, 7, 'a', 'b', 'c'}"
      ]
     },
     "execution_count": 34,
     "metadata": {},
     "output_type": "execute_result"
    }
   ],
   "source": [
    "set1"
   ]
  },
  {
   "cell_type": "code",
   "execution_count": 36,
   "id": "7b4a02c4-a0d1-478d-81a5-c98c3221305e",
   "metadata": {},
   "outputs": [],
   "source": [
    "set1.remove(5)"
   ]
  },
  {
   "cell_type": "code",
   "execution_count": 38,
   "id": "e4ddc3d5-5f33-4916-992f-f65680b791a8",
   "metadata": {},
   "outputs": [
    {
     "data": {
      "text/plain": [
       "{1, 2, 3, 4, 6, 7, 'a', 'b', 'c'}"
      ]
     },
     "execution_count": 38,
     "metadata": {},
     "output_type": "execute_result"
    }
   ],
   "source": [
    "set1"
   ]
  },
  {
   "cell_type": "code",
   "execution_count": null,
   "id": "5c6dbfd3-a5df-40b9-9606-57efb39e2d24",
   "metadata": {},
   "outputs": [],
   "source": [
    "A={1,3,2,4,5}\n",
    "B={2,5,6,7,8}\n",
    "c={2,9,11,"
   ]
  }
 ],
 "metadata": {
  "kernelspec": {
   "display_name": "Python 3 (ipykernel)",
   "language": "python",
   "name": "python3"
  },
  "language_info": {
   "codemirror_mode": {
    "name": "ipython",
    "version": 3
   },
   "file_extension": ".py",
   "mimetype": "text/x-python",
   "name": "python",
   "nbconvert_exporter": "python",
   "pygments_lexer": "ipython3",
   "version": "3.12.7"
  }
 },
 "nbformat": 4,
 "nbformat_minor": 5
}
