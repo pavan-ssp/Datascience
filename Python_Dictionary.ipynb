{
 "cells": [
  {
   "cell_type": "markdown",
   "id": "1ec66aa9-201d-413a-8910-7dc66f3f27f6",
   "metadata": {},
   "source": [
    "# Dictionary\n",
    "### A python Dictionary consists of a key and then an associate value.\n",
    "### It was represed as { : }\n"
   ]
  },
  {
   "cell_type": "code",
   "execution_count": 2,
   "id": "4822cce9-4b64-412b-88ea-14bb283e6bd9",
   "metadata": {},
   "outputs": [],
   "source": [
    "Marveldict={'Name':\"Thor\",\"place\":'Asgard','weapon':'Hammer'}"
   ]
  },
  {
   "cell_type": "code",
   "execution_count": 4,
   "id": "ecb03e15-04c5-4e55-8bcd-374b0a75f0d0",
   "metadata": {},
   "outputs": [
    {
     "data": {
      "text/plain": [
       "{'Name': 'Thor', 'place': 'Asgard', 'weapon': 'Hammer'}"
      ]
     },
     "execution_count": 4,
     "metadata": {},
     "output_type": "execute_result"
    }
   ],
   "source": [
    "Marveldict"
   ]
  },
  {
   "cell_type": "code",
   "execution_count": 6,
   "id": "32a8130e-e682-43ce-9009-92fe72e91fea",
   "metadata": {},
   "outputs": [
    {
     "data": {
      "text/plain": [
       "dict_keys(['Name', 'place', 'weapon'])"
      ]
     },
     "execution_count": 6,
     "metadata": {},
     "output_type": "execute_result"
    }
   ],
   "source": [
    "Marveldict.keys()"
   ]
  },
  {
   "cell_type": "code",
   "execution_count": 8,
   "id": "77229d85-da38-4cd0-8443-cb44ef0482d7",
   "metadata": {},
   "outputs": [
    {
     "data": {
      "text/plain": [
       "dict_values(['Thor', 'Asgard', 'Hammer'])"
      ]
     },
     "execution_count": 8,
     "metadata": {},
     "output_type": "execute_result"
    }
   ],
   "source": [
    "Marveldict.values()\n"
   ]
  },
  {
   "cell_type": "code",
   "execution_count": 10,
   "id": "2b8bdb7f-8b13-449a-ae07-74249a18df25",
   "metadata": {},
   "outputs": [
    {
     "data": {
      "text/plain": [
       "dict_items([('Name', 'Thor'), ('place', 'Asgard'), ('weapon', 'Hammer')])"
      ]
     },
     "execution_count": 10,
     "metadata": {},
     "output_type": "execute_result"
    }
   ],
   "source": [
    "Marveldict.items()"
   ]
  },
  {
   "cell_type": "code",
   "execution_count": 12,
   "id": "e79deec8-f879-4c10-aed9-13e2b0b7fbb3",
   "metadata": {},
   "outputs": [
    {
     "data": {
      "text/plain": [
       "'Thor'"
      ]
     },
     "execution_count": 12,
     "metadata": {},
     "output_type": "execute_result"
    }
   ],
   "source": [
    "Marveldict.get('Name')"
   ]
  },
  {
   "cell_type": "code",
   "execution_count": 16,
   "id": "011d6984-12bd-4279-abaf-5360fdadbe0f",
   "metadata": {},
   "outputs": [],
   "source": [
    "Marveldict.get('pavan')   # If it doesnt get any value corresponding to the key it will not give any output"
   ]
  },
  {
   "cell_type": "code",
   "execution_count": 20,
   "id": "97f06583-cf08-4323-ba65-7e9ece4f0c31",
   "metadata": {},
   "outputs": [
    {
     "data": {
      "text/plain": [
       "'not found'"
      ]
     },
     "execution_count": 20,
     "metadata": {},
     "output_type": "execute_result"
    }
   ],
   "source": [
    "Marveldict.get('pavan','not found')   # If it doesnt get any value corresponding to the key it gives result what we defined after comma"
   ]
  },
  {
   "cell_type": "markdown",
   "id": "4adcc102-0327-4d3c-8625-093273498f0b",
   "metadata": {},
   "source": [
    "# Adding a key value pair to the existing dictionary"
   ]
  },
  {
   "cell_type": "code",
   "execution_count": 23,
   "id": "2353e8c0-dc33-4d2a-9e13-aaa58f84e04e",
   "metadata": {},
   "outputs": [],
   "source": [
    "Marveldict['Designation']='king of Asgard'"
   ]
  },
  {
   "cell_type": "code",
   "execution_count": 25,
   "id": "2ec3ac76-c823-4b4c-b088-36c892b4ce36",
   "metadata": {},
   "outputs": [
    {
     "data": {
      "text/plain": [
       "{'Name': 'Thor',\n",
       " 'place': 'Asgard',\n",
       " 'weapon': 'Hammer',\n",
       " 'Designation': 'king of Asgard'}"
      ]
     },
     "execution_count": 25,
     "metadata": {},
     "output_type": "execute_result"
    }
   ],
   "source": [
    "Marveldict"
   ]
  },
  {
   "cell_type": "markdown",
   "id": "aad375de-a81e-43df-b5d0-4dc54b2f721e",
   "metadata": {},
   "source": [
    "# Update a dictionary"
   ]
  },
  {
   "cell_type": "code",
   "execution_count": 28,
   "id": "14d35af1-82ec-4aad-a868-5dfbb14ea726",
   "metadata": {},
   "outputs": [],
   "source": [
    "Marveldict.update({'Designation':'Asgard ka king'})"
   ]
  },
  {
   "cell_type": "code",
   "execution_count": 30,
   "id": "19c235ed-32f3-4d3f-9338-ed99a0d04b8e",
   "metadata": {},
   "outputs": [
    {
     "data": {
      "text/plain": [
       "{'Name': 'Thor',\n",
       " 'place': 'Asgard',\n",
       " 'weapon': 'Hammer',\n",
       " 'Designation': 'Asgard ka king'}"
      ]
     },
     "execution_count": 30,
     "metadata": {},
     "output_type": "execute_result"
    }
   ],
   "source": [
    "Marveldict"
   ]
  },
  {
   "cell_type": "markdown",
   "id": "bcea76a3-6065-419c-8353-50be39cccf8a",
   "metadata": {},
   "source": [
    "# By using a list we can change it as a dictionary"
   ]
  },
  {
   "cell_type": "code",
   "execution_count": 33,
   "id": "89ec4acc-3310-4762-baa9-5e0713355fcf",
   "metadata": {},
   "outputs": [],
   "source": [
    "country=[('India','New Delhi'),('Australia','Cannberra')]"
   ]
  },
  {
   "cell_type": "code",
   "execution_count": 35,
   "id": "679ddc9e-4741-4c07-9c09-a8f80843b06c",
   "metadata": {},
   "outputs": [
    {
     "data": {
      "text/plain": [
       "[('India', 'New Delhi'), ('Australia', 'Cannberra')]"
      ]
     },
     "execution_count": 35,
     "metadata": {},
     "output_type": "execute_result"
    }
   ],
   "source": [
    "country"
   ]
  },
  {
   "cell_type": "code",
   "execution_count": 37,
   "id": "24bdd3a7-8899-4bdd-9da6-f90d8bed7e92",
   "metadata": {},
   "outputs": [
    {
     "data": {
      "text/plain": [
       "list"
      ]
     },
     "execution_count": 37,
     "metadata": {},
     "output_type": "execute_result"
    }
   ],
   "source": [
    "type(country)"
   ]
  },
  {
   "cell_type": "code",
   "execution_count": 39,
   "id": "fdc52a48-80da-46b7-b87d-eeccaf9ae807",
   "metadata": {},
   "outputs": [],
   "source": [
    "countrydict=dict(country)"
   ]
  },
  {
   "cell_type": "code",
   "execution_count": 41,
   "id": "0035ec9e-70e1-4be2-b910-cf7491688d71",
   "metadata": {},
   "outputs": [
    {
     "data": {
      "text/plain": [
       "{'India': 'New Delhi', 'Australia': 'Cannberra'}"
      ]
     },
     "execution_count": 41,
     "metadata": {},
     "output_type": "execute_result"
    }
   ],
   "source": [
    "countrydict"
   ]
  },
  {
   "cell_type": "code",
   "execution_count": 51,
   "id": "cfd8c41b-95d2-42be-b84a-660dba995191",
   "metadata": {},
   "outputs": [
    {
     "data": {
      "text/plain": [
       "'Cannberra'"
      ]
     },
     "execution_count": 51,
     "metadata": {},
     "output_type": "execute_result"
    }
   ],
   "source": [
    "countrydict.pop('Australia')"
   ]
  },
  {
   "cell_type": "code",
   "execution_count": 53,
   "id": "b20f70a1-e655-4f97-8e9e-8fdbfb08abab",
   "metadata": {},
   "outputs": [
    {
     "data": {
      "text/plain": [
       "{'India': 'New Delhi'}"
      ]
     },
     "execution_count": 53,
     "metadata": {},
     "output_type": "execute_result"
    }
   ],
   "source": [
    "countrydict"
   ]
  },
  {
   "cell_type": "markdown",
   "id": "5da7d306-ddb6-48cf-b7b6-1d91a8f71cec",
   "metadata": {},
   "source": [
    "#  ZIP()"
   ]
  },
  {
   "cell_type": "code",
   "execution_count": 56,
   "id": "c4c6048b-96dd-4494-a00c-388eaa201bb2",
   "metadata": {},
   "outputs": [],
   "source": [
    "name=['pavan','santhosh','ravi']\n",
    "marks=[100,90,95]"
   ]
  },
  {
   "cell_type": "code",
   "execution_count": 58,
   "id": "3c89b9e3-babc-4d8e-85f7-a6eac065fdd6",
   "metadata": {},
   "outputs": [],
   "source": [
    "mapped=zip(name,marks)"
   ]
  },
  {
   "cell_type": "code",
   "execution_count": 64,
   "id": "5571d2c3-3bdf-4d2e-ad97-e3b8679940ce",
   "metadata": {},
   "outputs": [
    {
     "name": "stdout",
     "output_type": "stream",
     "text": [
      "[('pavan', 100), ('santhosh', 90), ('ravi', 95)]\n"
     ]
    }
   ],
   "source": [
    "print(list(mapped))"
   ]
  },
  {
   "cell_type": "code",
   "execution_count": 68,
   "id": "55230737-1123-4413-864d-6335460e260a",
   "metadata": {},
   "outputs": [
    {
     "name": "stdout",
     "output_type": "stream",
     "text": [
      "{'pavan': 100, 'santhosh': 90, 'ravi': 95}\n"
     ]
    }
   ],
   "source": [
    "print(dict(zip(name,marks)))"
   ]
  },
  {
   "cell_type": "code",
   "execution_count": null,
   "id": "bc980afe-7b89-46a6-928c-e1e070a0b654",
   "metadata": {},
   "outputs": [],
   "source": []
  }
 ],
 "metadata": {
  "kernelspec": {
   "display_name": "Python 3 (ipykernel)",
   "language": "python",
   "name": "python3"
  },
  "language_info": {
   "codemirror_mode": {
    "name": "ipython",
    "version": 3
   },
   "file_extension": ".py",
   "mimetype": "text/x-python",
   "name": "python",
   "nbconvert_exporter": "python",
   "pygments_lexer": "ipython3",
   "version": "3.12.7"
  }
 },
 "nbformat": 4,
 "nbformat_minor": 5
}
